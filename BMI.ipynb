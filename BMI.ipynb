{
 "cells": [
  {
   "cell_type": "code",
   "execution_count": null,
   "id": "cf8a8172",
   "metadata": {},
   "outputs": [],
   "source": [
    "height= float(input(\"please enter your height in cm:  \"))\n",
    "height = height/100\n",
    "weight= float(input(\"\\nplease enter your weight in kg:  \"))\n",
    "BMI= weight /(height*height)\n",
    "print(f\"\\nYour BMI is: {BMI}.\")\n",
    "if (BMI <=16):\n",
    "  print(\"\\nYou should meet a doctor.You are severely underweight.\")\n",
    "elif (BMI <=18.5):\n",
    "  print(\"\\nYou should eat alittle more.You are underweight.\")  \n",
    "elif (BMI <=25):\n",
    "  print(\"\\nCogradulation!.You are healthy and fit.\")  \n",
    "elif (BMI <=30):\n",
    "  print(\"\\nYou should be on a diet. You are  overweight.\")\n",
    "else:\n",
    "  print(\"\\nYou should meet a doctor. You are severaly overweight.\")"
   ]
  },
  {
   "cell_type": "code",
   "execution_count": null,
   "id": "c36e9feb",
   "metadata": {},
   "outputs": [],
   "source": []
  }
 ],
 "metadata": {
  "kernelspec": {
   "display_name": "Python 3 (ipykernel)",
   "language": "python",
   "name": "python3"
  },
  "language_info": {
   "codemirror_mode": {
    "name": "ipython",
    "version": 3
   },
   "file_extension": ".py",
   "mimetype": "text/x-python",
   "name": "python",
   "nbconvert_exporter": "python",
   "pygments_lexer": "ipython3",
   "version": "3.10.6"
  }
 },
 "nbformat": 4,
 "nbformat_minor": 5
}
